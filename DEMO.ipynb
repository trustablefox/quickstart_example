{
 "cells": [
  {
   "cell_type": "markdown",
   "id": "cf992b91",
   "metadata": {},
   "source": [
    "#### First, install \"foxplainer\" via pip"
   ]
  },
  {
   "cell_type": "code",
   "execution_count": 13,
   "id": "64716607",
   "metadata": {},
   "outputs": [
    {
     "name": "stdout",
     "output_type": "stream",
     "text": [
      "Defaulting to user installation because normal site-packages is not writeable\n",
      "Requirement already satisfied: foxplainer in /home/michael/.local/lib/python3.8/site-packages (0.1.2)\n",
      "Requirement already satisfied: scikit-learn<2.0.0,>=1.1.2 in /home/michael/.local/lib/python3.8/site-packages (from foxplainer) (1.1.2)\n",
      "Requirement already satisfied: numpy<2.0.0,>=1.23.2 in /home/michael/.local/lib/python3.8/site-packages (from foxplainer) (1.23.2)\n",
      "Requirement already satisfied: ipywidgets<8.0.0,>=7.7.1 in /home/michael/.local/lib/python3.8/site-packages (from foxplainer) (7.7.1)\n",
      "Requirement already satisfied: anytree<3.0.0,>=2.8.0 in /home/michael/.local/lib/python3.8/site-packages (from foxplainer) (2.8.0)\n",
      "Requirement already satisfied: pandas<2.0.0,>=1.4.3 in /home/michael/.local/lib/python3.8/site-packages (from foxplainer) (1.4.3)\n",
      "Requirement already satisfied: six<2.0.0,>=1.16.0 in /home/michael/.local/lib/python3.8/site-packages (from foxplainer) (1.16.0)\n",
      "Requirement already satisfied: traitlets>=4.3.1 in /home/michael/.local/lib/python3.8/site-packages (from ipywidgets<8.0.0,>=7.7.1->foxplainer) (5.1.0)\n",
      "Requirement already satisfied: jupyterlab-widgets>=1.0.0 in /home/michael/.local/lib/python3.8/site-packages (from ipywidgets<8.0.0,>=7.7.1->foxplainer) (1.0.2)\n",
      "Requirement already satisfied: ipykernel>=4.5.1 in /home/michael/.local/lib/python3.8/site-packages (from ipywidgets<8.0.0,>=7.7.1->foxplainer) (6.4.1)\n",
      "Requirement already satisfied: ipython-genutils~=0.2.0 in /home/michael/.local/lib/python3.8/site-packages (from ipywidgets<8.0.0,>=7.7.1->foxplainer) (0.2.0)\n",
      "Requirement already satisfied: ipython>=4.0.0 in /home/michael/.local/lib/python3.8/site-packages (from ipywidgets<8.0.0,>=7.7.1->foxplainer) (7.28.0)\n",
      "Requirement already satisfied: widgetsnbextension~=3.6.0 in /home/michael/.local/lib/python3.8/site-packages (from ipywidgets<8.0.0,>=7.7.1->foxplainer) (3.6.1)\n",
      "Requirement already satisfied: pytz>=2020.1 in /home/michael/.local/lib/python3.8/site-packages (from pandas<2.0.0,>=1.4.3->foxplainer) (2021.3)\n",
      "Requirement already satisfied: python-dateutil>=2.8.1 in /opt/conda/lib/python3.8/site-packages (from pandas<2.0.0,>=1.4.3->foxplainer) (2.8.2)\n",
      "Requirement already satisfied: threadpoolctl>=2.0.0 in /home/michael/.local/lib/python3.8/site-packages (from scikit-learn<2.0.0,>=1.1.2->foxplainer) (3.0.0)\n",
      "Requirement already satisfied: joblib>=1.0.0 in /home/michael/.local/lib/python3.8/site-packages (from scikit-learn<2.0.0,>=1.1.2->foxplainer) (1.1.0)\n",
      "Requirement already satisfied: scipy>=1.3.2 in /home/michael/.local/lib/python3.8/site-packages (from scikit-learn<2.0.0,>=1.1.2->foxplainer) (1.9.0)\n",
      "Requirement already satisfied: jupyter-client<8.0 in /home/michael/.local/lib/python3.8/site-packages (from ipykernel>=4.5.1->ipywidgets<8.0.0,>=7.7.1->foxplainer) (7.0.6)\n",
      "Requirement already satisfied: matplotlib-inline<0.2.0,>=0.1.0 in /home/michael/.local/lib/python3.8/site-packages (from ipykernel>=4.5.1->ipywidgets<8.0.0,>=7.7.1->foxplainer) (0.1.3)\n",
      "Requirement already satisfied: debugpy<2.0,>=1.0.0 in /home/michael/.local/lib/python3.8/site-packages (from ipykernel>=4.5.1->ipywidgets<8.0.0,>=7.7.1->foxplainer) (1.5.0)\n",
      "Requirement already satisfied: tornado<7.0,>=4.2 in /home/michael/.local/lib/python3.8/site-packages (from ipykernel>=4.5.1->ipywidgets<8.0.0,>=7.7.1->foxplainer) (6.1)\n",
      "Requirement already satisfied: pickleshare in /home/michael/.local/lib/python3.8/site-packages (from ipython>=4.0.0->ipywidgets<8.0.0,>=7.7.1->foxplainer) (0.7.5)\n",
      "Requirement already satisfied: pexpect>4.3 in /home/michael/.local/lib/python3.8/site-packages (from ipython>=4.0.0->ipywidgets<8.0.0,>=7.7.1->foxplainer) (4.8.0)\n",
      "Requirement already satisfied: pygments in /home/michael/.local/lib/python3.8/site-packages (from ipython>=4.0.0->ipywidgets<8.0.0,>=7.7.1->foxplainer) (2.10.0)\n",
      "Requirement already satisfied: jedi>=0.16 in /home/michael/.local/lib/python3.8/site-packages (from ipython>=4.0.0->ipywidgets<8.0.0,>=7.7.1->foxplainer) (0.18.0)\n",
      "Requirement already satisfied: decorator in /home/michael/.local/lib/python3.8/site-packages (from ipython>=4.0.0->ipywidgets<8.0.0,>=7.7.1->foxplainer) (5.1.0)\n",
      "Requirement already satisfied: prompt-toolkit!=3.0.0,!=3.0.1,<3.1.0,>=2.0.0 in /home/michael/.local/lib/python3.8/site-packages (from ipython>=4.0.0->ipywidgets<8.0.0,>=7.7.1->foxplainer) (3.0.20)\n",
      "Requirement already satisfied: backcall in /home/michael/.local/lib/python3.8/site-packages (from ipython>=4.0.0->ipywidgets<8.0.0,>=7.7.1->foxplainer) (0.2.0)\n",
      "Requirement already satisfied: setuptools>=18.5 in /opt/conda/lib/python3.8/site-packages (from ipython>=4.0.0->ipywidgets<8.0.0,>=7.7.1->foxplainer) (58.0.4)\n",
      "Requirement already satisfied: notebook>=4.4.1 in /home/michael/.local/lib/python3.8/site-packages (from widgetsnbextension~=3.6.0->ipywidgets<8.0.0,>=7.7.1->foxplainer) (6.4.4)\n",
      "Requirement already satisfied: parso<0.9.0,>=0.8.0 in /home/michael/.local/lib/python3.8/site-packages (from jedi>=0.16->ipython>=4.0.0->ipywidgets<8.0.0,>=7.7.1->foxplainer) (0.8.2)\n",
      "Requirement already satisfied: entrypoints in /home/michael/.local/lib/python3.8/site-packages (from jupyter-client<8.0->ipykernel>=4.5.1->ipywidgets<8.0.0,>=7.7.1->foxplainer) (0.3)\n",
      "Requirement already satisfied: jupyter-core>=4.6.0 in /home/michael/.local/lib/python3.8/site-packages (from jupyter-client<8.0->ipykernel>=4.5.1->ipywidgets<8.0.0,>=7.7.1->foxplainer) (4.8.1)\n",
      "Requirement already satisfied: nest-asyncio>=1.5 in /home/michael/.local/lib/python3.8/site-packages (from jupyter-client<8.0->ipykernel>=4.5.1->ipywidgets<8.0.0,>=7.7.1->foxplainer) (1.5.1)\n",
      "Requirement already satisfied: pyzmq>=13 in /home/michael/.local/lib/python3.8/site-packages (from jupyter-client<8.0->ipykernel>=4.5.1->ipywidgets<8.0.0,>=7.7.1->foxplainer) (22.3.0)\n",
      "Requirement already satisfied: jinja2 in /home/michael/.local/lib/python3.8/site-packages (from notebook>=4.4.1->widgetsnbextension~=3.6.0->ipywidgets<8.0.0,>=7.7.1->foxplainer) (3.0.2)\n",
      "Requirement already satisfied: argon2-cffi in /home/michael/.local/lib/python3.8/site-packages (from notebook>=4.4.1->widgetsnbextension~=3.6.0->ipywidgets<8.0.0,>=7.7.1->foxplainer) (21.1.0)\n",
      "Requirement already satisfied: terminado>=0.8.3 in /home/michael/.local/lib/python3.8/site-packages (from notebook>=4.4.1->widgetsnbextension~=3.6.0->ipywidgets<8.0.0,>=7.7.1->foxplainer) (0.12.1)\n",
      "Requirement already satisfied: prometheus-client in /home/michael/.local/lib/python3.8/site-packages (from notebook>=4.4.1->widgetsnbextension~=3.6.0->ipywidgets<8.0.0,>=7.7.1->foxplainer) (0.11.0)\n",
      "Requirement already satisfied: Send2Trash>=1.5.0 in /home/michael/.local/lib/python3.8/site-packages (from notebook>=4.4.1->widgetsnbextension~=3.6.0->ipywidgets<8.0.0,>=7.7.1->foxplainer) (1.8.0)\n",
      "Requirement already satisfied: nbformat in /home/michael/.local/lib/python3.8/site-packages (from notebook>=4.4.1->widgetsnbextension~=3.6.0->ipywidgets<8.0.0,>=7.7.1->foxplainer) (5.1.3)\n",
      "Requirement already satisfied: nbconvert in /home/michael/.local/lib/python3.8/site-packages (from notebook>=4.4.1->widgetsnbextension~=3.6.0->ipywidgets<8.0.0,>=7.7.1->foxplainer) (6.2.0)\n",
      "Requirement already satisfied: ptyprocess>=0.5 in /home/michael/.local/lib/python3.8/site-packages (from pexpect>4.3->ipython>=4.0.0->ipywidgets<8.0.0,>=7.7.1->foxplainer) (0.7.0)\n",
      "Requirement already satisfied: wcwidth in /home/michael/.local/lib/python3.8/site-packages (from prompt-toolkit!=3.0.0,!=3.0.1,<3.1.0,>=2.0.0->ipython>=4.0.0->ipywidgets<8.0.0,>=7.7.1->foxplainer) (0.2.5)\n",
      "Requirement already satisfied: cffi>=1.0.0 in /opt/conda/lib/python3.8/site-packages (from argon2-cffi->notebook>=4.4.1->widgetsnbextension~=3.6.0->ipywidgets<8.0.0,>=7.7.1->foxplainer) (1.14.6)\n",
      "Requirement already satisfied: MarkupSafe>=2.0 in /home/michael/.local/lib/python3.8/site-packages (from jinja2->notebook>=4.4.1->widgetsnbextension~=3.6.0->ipywidgets<8.0.0,>=7.7.1->foxplainer) (2.0.1)\n",
      "Requirement already satisfied: mistune<2,>=0.8.1 in /home/michael/.local/lib/python3.8/site-packages (from nbconvert->notebook>=4.4.1->widgetsnbextension~=3.6.0->ipywidgets<8.0.0,>=7.7.1->foxplainer) (0.8.4)\n",
      "Requirement already satisfied: jupyterlab-pygments in /home/michael/.local/lib/python3.8/site-packages (from nbconvert->notebook>=4.4.1->widgetsnbextension~=3.6.0->ipywidgets<8.0.0,>=7.7.1->foxplainer) (0.1.2)\n",
      "Requirement already satisfied: pandocfilters>=1.4.1 in /home/michael/.local/lib/python3.8/site-packages (from nbconvert->notebook>=4.4.1->widgetsnbextension~=3.6.0->ipywidgets<8.0.0,>=7.7.1->foxplainer) (1.5.0)\n",
      "Requirement already satisfied: nbclient<0.6.0,>=0.5.0 in /home/michael/.local/lib/python3.8/site-packages (from nbconvert->notebook>=4.4.1->widgetsnbextension~=3.6.0->ipywidgets<8.0.0,>=7.7.1->foxplainer) (0.5.4)\n",
      "Requirement already satisfied: bleach in /home/michael/.local/lib/python3.8/site-packages (from nbconvert->notebook>=4.4.1->widgetsnbextension~=3.6.0->ipywidgets<8.0.0,>=7.7.1->foxplainer) (4.1.0)\n",
      "Requirement already satisfied: testpath in /home/michael/.local/lib/python3.8/site-packages (from nbconvert->notebook>=4.4.1->widgetsnbextension~=3.6.0->ipywidgets<8.0.0,>=7.7.1->foxplainer) (0.5.0)\n",
      "Requirement already satisfied: defusedxml in /home/michael/.local/lib/python3.8/site-packages (from nbconvert->notebook>=4.4.1->widgetsnbextension~=3.6.0->ipywidgets<8.0.0,>=7.7.1->foxplainer) (0.7.1)\n",
      "Requirement already satisfied: jsonschema!=2.5.0,>=2.4 in /home/michael/.local/lib/python3.8/site-packages (from nbformat->notebook>=4.4.1->widgetsnbextension~=3.6.0->ipywidgets<8.0.0,>=7.7.1->foxplainer) (3.2.0)\n",
      "Requirement already satisfied: pycparser in /opt/conda/lib/python3.8/site-packages (from cffi>=1.0.0->argon2-cffi->notebook>=4.4.1->widgetsnbextension~=3.6.0->ipywidgets<8.0.0,>=7.7.1->foxplainer) (2.20)\n",
      "Requirement already satisfied: attrs>=17.4.0 in /home/michael/.local/lib/python3.8/site-packages (from jsonschema!=2.5.0,>=2.4->nbformat->notebook>=4.4.1->widgetsnbextension~=3.6.0->ipywidgets<8.0.0,>=7.7.1->foxplainer) (21.2.0)\n",
      "Requirement already satisfied: pyrsistent>=0.14.0 in /home/michael/.local/lib/python3.8/site-packages (from jsonschema!=2.5.0,>=2.4->nbformat->notebook>=4.4.1->widgetsnbextension~=3.6.0->ipywidgets<8.0.0,>=7.7.1->foxplainer) (0.18.0)\n",
      "Requirement already satisfied: webencodings in /home/michael/.local/lib/python3.8/site-packages (from bleach->nbconvert->notebook>=4.4.1->widgetsnbextension~=3.6.0->ipywidgets<8.0.0,>=7.7.1->foxplainer) (0.5.1)\n",
      "Requirement already satisfied: packaging in /home/michael/.local/lib/python3.8/site-packages (from bleach->nbconvert->notebook>=4.4.1->widgetsnbextension~=3.6.0->ipywidgets<8.0.0,>=7.7.1->foxplainer) (21.0)\n",
      "Requirement already satisfied: pyparsing>=2.0.2 in /opt/conda/lib/python3.8/site-packages (from packaging->bleach->nbconvert->notebook>=4.4.1->widgetsnbextension~=3.6.0->ipywidgets<8.0.0,>=7.7.1->foxplainer) (2.4.7)\n",
      "\u001b[33mWARNING: You are using pip version 22.0.4; however, version 22.2.2 is available.\n",
      "You should consider upgrading via the '/opt/conda/bin/python -m pip install --upgrade pip' command.\u001b[0m\u001b[33m\n",
      "\u001b[0m"
     ]
    }
   ],
   "source": [
    "!pip install foxplainer"
   ]
  },
  {
   "cell_type": "markdown",
   "id": "65f96cf2",
   "metadata": {},
   "source": [
    "#### Example of returning one abductive explanation \n",
    "##### need to specify the parameter xtype=\"abd\""
   ]
  },
  {
   "cell_type": "code",
   "execution_count": 6,
   "id": "f9345b5d",
   "metadata": {},
   "outputs": [
    {
     "name": "stdout",
     "output_type": "stream",
     "text": [
      "\n",
      "Explaining the logistic regression model...\n",
      "\n"
     ]
    },
    {
     "name": "stderr",
     "output_type": "stream",
     "text": [
      "/home/michael/.conda/envs/tf/lib/python3.9/site-packages/sklearn/base.py:329: UserWarning: Trying to unpickle estimator LogisticRegression from version 0.24.2 when using version 1.1.2. This might lead to breaking code or invalid results. Use at your own risk. For more info please refer to:\n",
      "https://scikit-learn.org/stable/model_persistence.html#security-maintainability-limitations\n",
      "  warnings.warn(\n"
     ]
    },
    {
     "data": {
      "application/vnd.jupyter.widget-view+json": {
       "model_id": "47ae6e2d48a14ef58215b6cb05ab7c42",
       "version_major": 2,
       "version_minor": 0
      },
      "text/plain": [
       "Accordion(children=(Tab(children=(HTML(value='\\n                \\n            <!DOCTYPE HTML>\\n            <ht…"
      ]
     },
     "metadata": {},
     "output_type": "display_data"
    }
   ],
   "source": [
    "from foxplainer.explainer import FoX\n",
    "fx = FoX(global_model_name=\"LR\", \n",
    "        xtype=\"abd\", \n",
    "        xnum=1, \n",
    "        global_model_path=\"./global_model/openstack_LR_global_model.pkl\", \n",
    "        proj_name=\"openstack\", \n",
    "        data_path=\"./dataset/\",\n",
    "        inst_id=5)\n",
    "fx.explain(in_jupyter=True)"
   ]
  },
  {
   "cell_type": "code",
   "execution_count": 8,
   "id": "8127ce88",
   "metadata": {},
   "outputs": [
    {
     "name": "stdout",
     "output_type": "stream",
     "text": [
      "\n",
      "Explaining the random forest model...\n",
      "\n"
     ]
    },
    {
     "name": "stderr",
     "output_type": "stream",
     "text": [
      "/home/michael/.conda/envs/tf/lib/python3.9/site-packages/sklearn/base.py:329: UserWarning: Trying to unpickle estimator DecisionTreeClassifier from version 0.24.2 when using version 1.1.2. This might lead to breaking code or invalid results. Use at your own risk. For more info please refer to:\n",
      "https://scikit-learn.org/stable/model_persistence.html#security-maintainability-limitations\n",
      "  warnings.warn(\n",
      "/home/michael/.conda/envs/tf/lib/python3.9/site-packages/sklearn/base.py:329: UserWarning: Trying to unpickle estimator RandomForestClassifier from version 0.24.2 when using version 1.1.2. This might lead to breaking code or invalid results. Use at your own risk. For more info please refer to:\n",
      "https://scikit-learn.org/stable/model_persistence.html#security-maintainability-limitations\n",
      "  warnings.warn(\n"
     ]
    },
    {
     "data": {
      "application/vnd.jupyter.widget-view+json": {
       "model_id": "aa560f2f04a54c348a5de6977d7bc41e",
       "version_major": 2,
       "version_minor": 0
      },
      "text/plain": [
       "Accordion(children=(Tab(children=(HTML(value='\\n                \\n            <!DOCTYPE HTML>\\n            <ht…"
      ]
     },
     "metadata": {},
     "output_type": "display_data"
    }
   ],
   "source": [
    "from foxplainer.explainer import FoX\n",
    "fx = FoX(global_model_name=\"RF\", \n",
    "        xtype=\"abd\", \n",
    "        xnum=1, \n",
    "        global_model_path=\"./global_model/openstack_RF_30estimators_global_model.pkl\", \n",
    "        proj_name=\"openstack\", \n",
    "        data_path=\"./dataset/\",\n",
    "        inst_id=5)\n",
    "fx.explain(in_jupyter=True)"
   ]
  },
  {
   "cell_type": "markdown",
   "id": "8dad1f89",
   "metadata": {},
   "source": [
    "#### Example of returning one contrastive explanation \n",
    "##### need to specify the parameter xtype=\"con\""
   ]
  },
  {
   "cell_type": "code",
   "execution_count": 9,
   "id": "2fce52ef",
   "metadata": {},
   "outputs": [
    {
     "name": "stdout",
     "output_type": "stream",
     "text": [
      "\n",
      "Explaining the logistic regression model...\n",
      "\n"
     ]
    },
    {
     "name": "stderr",
     "output_type": "stream",
     "text": [
      "/home/michael/.conda/envs/tf/lib/python3.9/site-packages/sklearn/base.py:329: UserWarning: Trying to unpickle estimator LogisticRegression from version 0.24.2 when using version 1.1.2. This might lead to breaking code or invalid results. Use at your own risk. For more info please refer to:\n",
      "https://scikit-learn.org/stable/model_persistence.html#security-maintainability-limitations\n",
      "  warnings.warn(\n"
     ]
    },
    {
     "data": {
      "application/vnd.jupyter.widget-view+json": {
       "model_id": "f0909b3523044eb2b5e8796d0d6c74bd",
       "version_major": 2,
       "version_minor": 0
      },
      "text/plain": [
       "Accordion(children=(Tab(children=(HTML(value='\\n                \\n            <!DOCTYPE HTML>\\n            <ht…"
      ]
     },
     "metadata": {},
     "output_type": "display_data"
    }
   ],
   "source": [
    "from foxplainer.explainer import FoX\n",
    "fx = FoX(global_model_name=\"LR\", \n",
    "        xtype=\"con\", \n",
    "        xnum=1, \n",
    "        global_model_path=\"./global_model/openstack_LR_global_model.pkl\", \n",
    "        proj_name=\"openstack\", \n",
    "        data_path=\"./dataset/\",\n",
    "        inst_id=5)\n",
    "fx.explain(in_jupyter=True)"
   ]
  },
  {
   "cell_type": "code",
   "execution_count": 10,
   "id": "c8bd1ad9",
   "metadata": {},
   "outputs": [
    {
     "name": "stdout",
     "output_type": "stream",
     "text": [
      "\n",
      "Explaining the random forest model...\n",
      "\n"
     ]
    },
    {
     "name": "stderr",
     "output_type": "stream",
     "text": [
      "/home/michael/.conda/envs/tf/lib/python3.9/site-packages/sklearn/base.py:329: UserWarning: Trying to unpickle estimator DecisionTreeClassifier from version 0.24.2 when using version 1.1.2. This might lead to breaking code or invalid results. Use at your own risk. For more info please refer to:\n",
      "https://scikit-learn.org/stable/model_persistence.html#security-maintainability-limitations\n",
      "  warnings.warn(\n",
      "/home/michael/.conda/envs/tf/lib/python3.9/site-packages/sklearn/base.py:329: UserWarning: Trying to unpickle estimator RandomForestClassifier from version 0.24.2 when using version 1.1.2. This might lead to breaking code or invalid results. Use at your own risk. For more info please refer to:\n",
      "https://scikit-learn.org/stable/model_persistence.html#security-maintainability-limitations\n",
      "  warnings.warn(\n"
     ]
    },
    {
     "data": {
      "application/vnd.jupyter.widget-view+json": {
       "model_id": "4b5e4c238f6d45f788d4977e9cde0048",
       "version_major": 2,
       "version_minor": 0
      },
      "text/plain": [
       "Accordion(children=(Tab(children=(HTML(value='\\n                \\n            <!DOCTYPE HTML>\\n            <ht…"
      ]
     },
     "metadata": {},
     "output_type": "display_data"
    }
   ],
   "source": [
    "from foxplainer.explainer import FoX\n",
    "fx = FoX(global_model_name=\"RF\", \n",
    "                    xtype=\"con\", \n",
    "                    xnum=1, \n",
    "                    global_model_path=\"./global_model/openstack_RF_30estimators_global_model.pkl\", \n",
    "                    proj_name=\"openstack\", \n",
    "                    data_path=\"./dataset/\",\n",
    "                    inst_id=5)\n",
    "fx.explain(in_jupyter=True)"
   ]
  },
  {
   "cell_type": "markdown",
   "id": "fd01340a",
   "metadata": {},
   "source": [
    "#### Example of returning all explanation (contrastive + abductive) \n",
    "##### no need to specify the parameter xtype since both explanations will be generated"
   ]
  },
  {
   "cell_type": "code",
   "execution_count": 11,
   "id": "e6c7051d",
   "metadata": {
    "scrolled": true
   },
   "outputs": [
    {
     "name": "stdout",
     "output_type": "stream",
     "text": [
      "\n",
      "Explaining the logistic regression model...\n",
      "\n"
     ]
    },
    {
     "name": "stderr",
     "output_type": "stream",
     "text": [
      "/home/michael/.conda/envs/tf/lib/python3.9/site-packages/sklearn/base.py:329: UserWarning: Trying to unpickle estimator LogisticRegression from version 0.24.2 when using version 1.1.2. This might lead to breaking code or invalid results. Use at your own risk. For more info please refer to:\n",
      "https://scikit-learn.org/stable/model_persistence.html#security-maintainability-limitations\n",
      "  warnings.warn(\n"
     ]
    },
    {
     "data": {
      "application/vnd.jupyter.widget-view+json": {
       "model_id": "d2688871664248968600d8afb9602bae",
       "version_major": 2,
       "version_minor": 0
      },
      "text/plain": [
       "Accordion(children=(Tab(children=(HTML(value='\\n                \\n            <!DOCTYPE HTML>\\n            <ht…"
      ]
     },
     "metadata": {},
     "output_type": "display_data"
    }
   ],
   "source": [
    "from foxplainer.explainer import FoX\n",
    "fx = FoX(global_model_name=\"LR\", \n",
    "        xnum='all', \n",
    "        global_model_path=\"./global_model/openstack_LR_global_model.pkl\", \n",
    "        proj_name=\"openstack\", \n",
    "        data_path=\"./dataset/\",\n",
    "        inst_id=5)\n",
    "fx.explain(in_jupyter=True)"
   ]
  },
  {
   "cell_type": "code",
   "execution_count": 12,
   "id": "c6b30aa8",
   "metadata": {},
   "outputs": [
    {
     "name": "stdout",
     "output_type": "stream",
     "text": [
      "\n",
      "Explaining the random forest model...\n",
      "\n"
     ]
    },
    {
     "name": "stderr",
     "output_type": "stream",
     "text": [
      "/home/michael/.conda/envs/tf/lib/python3.9/site-packages/sklearn/base.py:329: UserWarning: Trying to unpickle estimator DecisionTreeClassifier from version 0.24.2 when using version 1.1.2. This might lead to breaking code or invalid results. Use at your own risk. For more info please refer to:\n",
      "https://scikit-learn.org/stable/model_persistence.html#security-maintainability-limitations\n",
      "  warnings.warn(\n",
      "/home/michael/.conda/envs/tf/lib/python3.9/site-packages/sklearn/base.py:329: UserWarning: Trying to unpickle estimator RandomForestClassifier from version 0.24.2 when using version 1.1.2. This might lead to breaking code or invalid results. Use at your own risk. For more info please refer to:\n",
      "https://scikit-learn.org/stable/model_persistence.html#security-maintainability-limitations\n",
      "  warnings.warn(\n"
     ]
    },
    {
     "data": {
      "application/vnd.jupyter.widget-view+json": {
       "model_id": "25d8cf6f7c95436cb57262b3587d742b",
       "version_major": 2,
       "version_minor": 0
      },
      "text/plain": [
       "Accordion(children=(Tab(children=(HTML(value='\\n                \\n            <!DOCTYPE HTML>\\n            <ht…"
      ]
     },
     "metadata": {},
     "output_type": "display_data"
    }
   ],
   "source": [
    "from foxplainer.explainer import FoX\n",
    "fx = FoX(global_model_name=\"RF\", \n",
    "        xnum='all', \n",
    "        global_model_path=\"./global_model/openstack_RF_30estimators_global_model.pkl\", \n",
    "        proj_name=\"openstack\", \n",
    "        data_path=\"./dataset/\",\n",
    "        inst_id=5)\n",
    "fx.explain(in_jupyter=True)"
   ]
  },
  {
   "cell_type": "code",
   "execution_count": null,
   "id": "5e77ff13",
   "metadata": {},
   "outputs": [],
   "source": []
  }
 ],
 "metadata": {
  "kernelspec": {
   "display_name": "Python 3.9.7 ('tf')",
   "language": "python",
   "name": "python3"
  },
  "language_info": {
   "codemirror_mode": {
    "name": "ipython",
    "version": 3
   },
   "file_extension": ".py",
   "mimetype": "text/x-python",
   "name": "python",
   "nbconvert_exporter": "python",
   "pygments_lexer": "ipython3",
   "version": "3.9.7"
  },
  "vscode": {
   "interpreter": {
    "hash": "f94ee38ce90da614a8f32cf6ac7ab704a4d1a6b3de69a904fb3b4e3d179fb482"
   }
  }
 },
 "nbformat": 4,
 "nbformat_minor": 5
}
